{
 "cells": [
  {
   "cell_type": "markdown",
   "metadata": {},
   "source": [
    "# Simulador de planetas"
   ]
  },
  {
   "cell_type": "code",
   "execution_count": 1,
   "metadata": {},
   "outputs": [],
   "source": [
    "# -- Aquí los módulos que requieras -- #\n",
    "from ipywidgets import VBox, HBox, Button, Label, BoundedFloatText, BoundedIntText\n",
    "from IPython.display import clear_output, display\n",
    "import matplotlib.pyplot as plt\n",
    "# -- Módulos propios -- #\n",
    "from rango_temperaturas import color_estrellas\n",
    "# from orbitas import función_orbitas_entera"
   ]
  },
  {
   "cell_type": "code",
   "execution_count": 3,
   "metadata": {},
   "outputs": [
    {
     "data": {
      "application/vnd.jupyter.widget-view+json": {
       "model_id": "057b126cb6d04c4e8827b2aac0cb93b2",
       "version_major": 2,
       "version_minor": 0
      },
      "text/html": [
       "<p>Failed to display Jupyter Widget of type <code>VBox</code>.</p>\n",
       "<p>\n",
       "  If you're reading this message in the Jupyter Notebook or JupyterLab Notebook, it may mean\n",
       "  that the widgets JavaScript is still loading. If this message persists, it\n",
       "  likely means that the widgets JavaScript library is either not installed or\n",
       "  not enabled. See the <a href=\"https://ipywidgets.readthedocs.io/en/stable/user_install.html\">Jupyter\n",
       "  Widgets Documentation</a> for setup instructions.\n",
       "</p>\n",
       "<p>\n",
       "  If you're reading this message in another frontend (for example, a static\n",
       "  rendering on GitHub or <a href=\"https://nbviewer.jupyter.org/\">NBViewer</a>),\n",
       "  it may mean that your frontend doesn't currently support widgets.\n",
       "</p>\n"
      ],
      "text/plain": [
       "VBox(children=(HBox(children=(VBox(children=(Label(value='Propiedades estrella'), BoundedIntText(value=5778, description='Temperatura (K)', max=35000, min=3000, style=DescriptionStyle(description_width='initial')), BoundedFloatText(value=1.0, description='Luminosidad (Sol=1)', max=100000.0, min=1e-05, style=DescriptionStyle(description_width='initial')))), VBox(children=(Label(value='Propiedades planetas'), BoundedFloatText(value=0.2, description='Excentricidad', max=1.0), BoundedFloatText(value=1.0, description='Semieje mayor (UA)', min=0.01, style=DescriptionStyle(description_width='initial')))))), HBox(children=(Button(description='Reiniciar variables', style=ButtonStyle()), Button(description='Agregar otro planeta', style=ButtonStyle()), Button(description='Guardar sistema', style=ButtonStyle()), Button(description='Simular', style=ButtonStyle())))))"
      ]
     },
     "metadata": {},
     "output_type": "display_data"
    },
    {
     "name": "stdout",
     "output_type": "stream",
     "text": [
      "Ha elegido una estrella amarilla.\n",
      "Número de planetas: 1.\n",
      "Ha elegido una estrella amarilla.\n",
      "Número de planetas: 2.\n",
      "Ha elegido una estrella amarilla.\n",
      "Número de planetas: 3.\n",
      "Ha elegido una estrella amarilla.\n",
      "Número de planetas: 4.\n",
      "Ha elegido una estrella amarilla.\n",
      "Número de planetas: 1.\n"
     ]
    }
   ],
   "source": [
    "# Variables para guardar info del sistema\n",
    "estrella = [] # temperatura, luminosidad\n",
    "planetas = [] # lista con excentricidad y semieje mayor por planeta\n",
    "# Estilo\n",
    "estilo_texto = {'description_width': 'initial'}\n",
    "# Solicitud de información de la estrella\n",
    "titulo_estrella = Label(value=\"Propiedades estrella\")\n",
    "temp = BoundedIntText(description='Temperatura (K)', value=5778, min=3000, max=35000, style=estilo_texto)\n",
    "lum = BoundedFloatText(description='Luminosidad (Sol=1)', value=1, min=1e-5, max=1e5, style=estilo_texto)\n",
    "gui_estrella = VBox(children=[titulo_estrella, temp, lum])\n",
    "# Solicitud de información de los planetas\n",
    "titulo_planetas = Label(value=\"Propiedades planetas\")\n",
    "excentricidad = BoundedFloatText(description=\"Excentricidad\", value=0.2, min=0.0, max=1.0)\n",
    "semi_mayor = BoundedFloatText(description=\"Semieje mayor (UA)\", value=1.0, min=0.01, style=estilo_texto)\n",
    "gui_planetas = VBox(children=[titulo_planetas, excentricidad, semi_mayor])\n",
    "# Unión de solicitud de info\n",
    "gui_info = HBox(children=[gui_estrella, gui_planetas])\n",
    "# Botones\n",
    "bt_reiniciar = Button(description=\"Reiniciar variables\")\n",
    "bt_agregar = Button(description=\"Agregar otro planeta\")\n",
    "bt_guardar = Button(description=\"Guardar sistema\")\n",
    "bt_simular = Button(description=\"Simular\")\n",
    "gui_botones = HBox(children=[bt_reiniciar, bt_agregar, bt_guardar, bt_simular])\n",
    "# Unión GUI\n",
    "gui_sistema = VBox(children=[gui_info, gui_botones])\n",
    "# Acciones de los botones\n",
    "def clic_reiniciar(boton):\n",
    "    estrella[:] = []\n",
    "    planetas[:] = []\n",
    "\n",
    "def clic_agregar(boton):\n",
    "    planetas.append([excentricidad.value, semi_mayor.value])\n",
    "\n",
    "def clic_guardar(boton):\n",
    "    planetas.append([excentricidad.value, semi_mayor.value])\n",
    "    estrella.extend([temp.value, lum.value])\n",
    "    print(\"Ha elegido una estrella {}.\".format(color_estrellas(estrella[0])))\n",
    "    print(\"Número de planetas: {}.\".format(len(planetas)))\n",
    "\n",
    "def clic_simular(boton):\n",
    "    if len(estrella) == 0:\n",
    "        clic_guardar(boton)\n",
    "# Asociación de acciones a los botones\n",
    "bt_reiniciar.on_click(clic_reiniciar)\n",
    "bt_agregar.on_click(clic_agregar)\n",
    "bt_guardar.on_click(clic_guardar)\n",
    "bt_simular.on_click(clic_simular)\n",
    "# Mostrar GUI\n",
    "display(gui_sistema)"
   ]
  },
  {
   "cell_type": "code",
   "execution_count": 4,
   "metadata": {},
   "outputs": [
    {
     "name": "stdout",
     "output_type": "stream",
     "text": [
      "[5778, 1.0]\n",
      "[[0.2, 1.0]]\n"
     ]
    }
   ],
   "source": [
    "print(estrella)\n",
    "print(planetas)"
   ]
  }
 ],
 "metadata": {
  "kernelspec": {
   "display_name": "Python 3",
   "language": "python",
   "name": "python3"
  },
  "language_info": {
   "codemirror_mode": {
    "name": "ipython",
    "version": 3
   },
   "file_extension": ".py",
   "mimetype": "text/x-python",
   "name": "python",
   "nbconvert_exporter": "python",
   "pygments_lexer": "ipython3",
   "version": "3.5.2"
  }
 },
 "nbformat": 4,
 "nbformat_minor": 2
}
