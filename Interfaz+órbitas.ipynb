{
 "cells": [
  {
   "cell_type": "code",
   "execution_count": 1,
   "metadata": {
    "collapsed": true
   },
   "outputs": [],
   "source": [
    "import matplotlib.pyplot as plt\n",
    "import numpy as np"
   ]
  },
  {
   "cell_type": "code",
   "execution_count": 3,
   "metadata": {},
   "outputs": [],
   "source": [
    "import numpy #se usa numpy para las funciones de seno y coseno\n",
    "import conversiones\n",
    "import calculos_planetas\n",
    "import info_programa"
   ]
  },
  {
   "cell_type": "code",
   "execution_count": 20,
   "metadata": {},
   "outputs": [
    {
     "data": {
      "image/png": "[encoded data removed]",
      "text/plain": [
       "<matplotlib.figure.Figure at 0x29683c9e5f8>"
      ]
     },
     "metadata": {},
     "output_type": "display_data"
    }
   ],
   "source": [
    "def excentricidad(c,a):\n",
    "    \"\"\"\n",
    "    con la posición de los focos y el eje mayor, se haya la excentricidad de la elipse\n",
    "    \"\"\"\n",
    "    e=c/a\n",
    "    return e\n",
    "\n",
    "def angulo_orbital_tiempo(w,t):\n",
    "    \"\"\"\n",
    "    con el angulo orbital o la frecuencia angular, se multiplica con el periodo para obtener una relación\n",
    "    \"\"\"\n",
    "    return w*t\n",
    "\n",
    "def posicion_foco(a,e):\n",
    "    \"\"\"\n",
    "    Función que relaciona la excentricidad con el eje mayor para sacar la posición de los focos\n",
    "    \"\"\"\n",
    "    c=e*a\n",
    "    return c\n",
    "\n",
    "def frecuencia_angular(p):\n",
    "    \"\"\"\n",
    "    Funcion que permite encontrar la frecuencia angular usando el periodo\n",
    "    \"\"\"\n",
    "    f=1/p # Primeroo se encuentra la frecuencia\n",
    "    w=2*numpy.pi/f # Luego la frecuencia angular\n",
    "    return w\n",
    "\n",
    "\n",
    "def coordenadas(a,e,w,t):\n",
    "    \"\"\"\n",
    "    Función para tener las coordenadas de la elipse\n",
    "    \"\"\"\n",
    "    r=a*(1-e**2)/(1+e*numpy.cos(angulo_orbital_tiempo(w,t)))\n",
    "    Coo=conversiones.coordenadas_polares_a_cartesianas(r,w*t)\n",
    "    Coo[0]=Coo[0]-posicion_foco(a,e)\n",
    "    return Coo\n",
    "    \n",
    "def función_orbitas_entera(t,e,w,a):\n",
    "     T=calculos_planetas.periodo_planetas()\n",
    "     T_max=max(T)\n",
    "     t_rango=numpy.arange(0,T_max,1000)\n",
    "     for t in t_rango:\n",
    "         coord_sistema=[t]\n",
    "         for planeta in info_programa.planetas:\n",
    "             pos_xy=coordenadas(a,e,w,t)\n",
    "             coord_sistema.append(pos_xy)\n",
    "plt.plot([0], [1], 'ob')\n",
    "plt.plot([0], [0], 'oy', markersize=50)\n",
    "plt.show()"
   ]
  },
  {
   "cell_type": "code",
   "execution_count": 26,
   "metadata": {},
   "outputs": [
    {
     "ename": "NameError",
     "evalue": "name 'angulo_orbital_tiempo' is not defined",
     "output_type": "error",
     "traceback": [
      "\u001b[1;31m---------------------------------------------------------------------------\u001b[0m",
      "\u001b[1;31mNameError\u001b[0m                                 Traceback (most recent call last)",
      "\u001b[1;32m<ipython-input-26-50328ea02093>\u001b[0m in \u001b[0;36m<module>\u001b[1;34m()\u001b[0m\n\u001b[0;32m     13\u001b[0m \u001b[0mk\u001b[0m\u001b[1;33m=\u001b[0m\u001b[1;36m30000\u001b[0m \u001b[1;31m#temperatura de estrella\u001b[0m\u001b[1;33m\u001b[0m\u001b[0m\n\u001b[0;32m     14\u001b[0m \u001b[0ml\u001b[0m\u001b[1;33m=\u001b[0m\u001b[1;36m3.827e26\u001b[0m\u001b[1;33m\u001b[0m\u001b[0m\n\u001b[1;32m---> 15\u001b[1;33m \u001b[0mprint\u001b[0m\u001b[1;33m(\u001b[0m\u001b[0mfunción_orbitas_entera\u001b[0m\u001b[1;33m(\u001b[0m\u001b[0mt\u001b[0m\u001b[1;33m,\u001b[0m\u001b[0me\u001b[0m\u001b[1;33m,\u001b[0m\u001b[0mw\u001b[0m\u001b[1;33m,\u001b[0m\u001b[0ma\u001b[0m\u001b[1;33m)\u001b[0m\u001b[1;33m)\u001b[0m\u001b[1;33m\u001b[0m\u001b[0m\n\u001b[0m",
      "\u001b[1;32m<ipython-input-20-63a5d803cd95>\u001b[0m in \u001b[0;36mfunción_orbitas_entera\u001b[1;34m(t, e, w, a)\u001b[0m\n\u001b[0;32m     16\u001b[0m          \u001b[0mcoord_sistema\u001b[0m\u001b[1;33m=\u001b[0m\u001b[1;33m[\u001b[0m\u001b[0mt\u001b[0m\u001b[1;33m]\u001b[0m\u001b[1;33m\u001b[0m\u001b[0m\n\u001b[0;32m     17\u001b[0m          \u001b[1;32mfor\u001b[0m \u001b[0mplaneta\u001b[0m \u001b[1;32min\u001b[0m \u001b[0minfo_programa\u001b[0m\u001b[1;33m.\u001b[0m\u001b[0mplanetas\u001b[0m\u001b[1;33m:\u001b[0m\u001b[1;33m\u001b[0m\u001b[0m\n\u001b[1;32m---> 18\u001b[1;33m              \u001b[0mpos_xy\u001b[0m\u001b[1;33m=\u001b[0m\u001b[0mcoordenadas\u001b[0m\u001b[1;33m(\u001b[0m\u001b[0ma\u001b[0m\u001b[1;33m,\u001b[0m\u001b[0me\u001b[0m\u001b[1;33m,\u001b[0m\u001b[0mw\u001b[0m\u001b[1;33m,\u001b[0m\u001b[0mt\u001b[0m\u001b[1;33m)\u001b[0m\u001b[1;33m\u001b[0m\u001b[0m\n\u001b[0m\u001b[0;32m     19\u001b[0m              \u001b[0mcoord_sistema\u001b[0m\u001b[1;33m.\u001b[0m\u001b[0mappend\u001b[0m\u001b[1;33m(\u001b[0m\u001b[0mpos_xy\u001b[0m\u001b[1;33m)\u001b[0m\u001b[1;33m\u001b[0m\u001b[0m\n\u001b[0;32m     20\u001b[0m \u001b[0mplt\u001b[0m\u001b[1;33m.\u001b[0m\u001b[0mplot\u001b[0m\u001b[1;33m(\u001b[0m\u001b[1;33m[\u001b[0m\u001b[1;36m0\u001b[0m\u001b[1;33m]\u001b[0m\u001b[1;33m,\u001b[0m \u001b[1;33m[\u001b[0m\u001b[1;36m1\u001b[0m\u001b[1;33m]\u001b[0m\u001b[1;33m,\u001b[0m \u001b[1;34m'ob'\u001b[0m\u001b[1;33m)\u001b[0m\u001b[1;33m\u001b[0m\u001b[0m\n",
      "\u001b[1;32m<ipython-input-20-63a5d803cd95>\u001b[0m in \u001b[0;36mcoordenadas\u001b[1;34m(a, e, w, t)\u001b[0m\n\u001b[0;32m      3\u001b[0m     \u001b[0mFunción\u001b[0m \u001b[0mpara\u001b[0m \u001b[0mtener\u001b[0m \u001b[0mlas\u001b[0m \u001b[0mcoordenadas\u001b[0m \u001b[0mde\u001b[0m \u001b[0mla\u001b[0m \u001b[0melipse\u001b[0m\u001b[1;33m\u001b[0m\u001b[0m\n\u001b[0;32m      4\u001b[0m     \"\"\"\n\u001b[1;32m----> 5\u001b[1;33m     \u001b[0mr\u001b[0m\u001b[1;33m=\u001b[0m\u001b[0ma\u001b[0m\u001b[1;33m*\u001b[0m\u001b[1;33m(\u001b[0m\u001b[1;36m1\u001b[0m\u001b[1;33m-\u001b[0m\u001b[0me\u001b[0m\u001b[1;33m**\u001b[0m\u001b[1;36m2\u001b[0m\u001b[1;33m)\u001b[0m\u001b[1;33m/\u001b[0m\u001b[1;33m(\u001b[0m\u001b[1;36m1\u001b[0m\u001b[1;33m+\u001b[0m\u001b[0me\u001b[0m\u001b[1;33m*\u001b[0m\u001b[0mnumpy\u001b[0m\u001b[1;33m.\u001b[0m\u001b[0mcos\u001b[0m\u001b[1;33m(\u001b[0m\u001b[0mangulo_orbital_tiempo\u001b[0m\u001b[1;33m(\u001b[0m\u001b[0mw\u001b[0m\u001b[1;33m,\u001b[0m\u001b[0mt\u001b[0m\u001b[1;33m)\u001b[0m\u001b[1;33m)\u001b[0m\u001b[1;33m)\u001b[0m\u001b[1;33m\u001b[0m\u001b[0m\n\u001b[0m\u001b[0;32m      6\u001b[0m     \u001b[0mCoo\u001b[0m\u001b[1;33m=\u001b[0m\u001b[0mconversiones\u001b[0m\u001b[1;33m.\u001b[0m\u001b[0mcoordenadas_polares_a_cartesianas\u001b[0m\u001b[1;33m(\u001b[0m\u001b[0mr\u001b[0m\u001b[1;33m,\u001b[0m\u001b[0mw\u001b[0m\u001b[1;33m*\u001b[0m\u001b[0mt\u001b[0m\u001b[1;33m)\u001b[0m\u001b[1;33m\u001b[0m\u001b[0m\n\u001b[0;32m      7\u001b[0m     \u001b[0mCoo\u001b[0m\u001b[1;33m[\u001b[0m\u001b[1;36m0\u001b[0m\u001b[1;33m]\u001b[0m\u001b[1;33m=\u001b[0m\u001b[0mCoo\u001b[0m\u001b[1;33m[\u001b[0m\u001b[1;36m0\u001b[0m\u001b[1;33m]\u001b[0m\u001b[1;33m-\u001b[0m\u001b[0mposicion_foco\u001b[0m\u001b[1;33m(\u001b[0m\u001b[0ma\u001b[0m\u001b[1;33m,\u001b[0m\u001b[0me\u001b[0m\u001b[1;33m)\u001b[0m\u001b[1;33m\u001b[0m\u001b[0m\n",
      "\u001b[1;31mNameError\u001b[0m: name 'angulo_orbital_tiempo' is not defined"
     ]
    }
   ],
   "source": [
    "\n",
    "\n",
    "M=1.9819e30 # Masa del sol en kg\n",
    "a=149597870700 # Semieje mayor de la tierra en metros\n",
    "c=3867644300.41 #Focos de la elipse tierra-sol\n",
    "w=198171664.58844414\n",
    "e= 0.01671022 #excentricidad de la tierra\n",
    "p=3.154e7 # Periodo de la Tierra en segundos\n",
    "f=2*numpy.pi #Angulo polar\n",
    "A=numpy.pi # Angulo dado en radianes\n",
    "r=5 # Coordenada polar r\n",
    "t=3.154e7 # Periodo de la Tierra en segundos.\n",
    "k=30000 #temperatura de estrella\n",
    "l=3.827e26  \n",
    "\n",
    "print(función_orbitas_entera(t,e,w,a))"
   ]
  },
  {
   "cell_type": "code",
   "execution_count": null,
   "metadata": {
    "collapsed": true
   },
   "outputs": [],
   "source": []
  }
 ],
 "metadata": {
  "kernelspec": {
   "display_name": "Python 3",
   "language": "python",
   "name": "python3"
  },
  "language_info": {
   "codemirror_mode": {
    "name": "ipython",
    "version": 3
   },
   "file_extension": ".py",
   "mimetype": "text/x-python",
   "name": "python",
   "nbconvert_exporter": "python",
   "pygments_lexer": "ipython3",
   "version": "3.6.3"
  }
 },
 "nbformat": 4,
 "nbformat_minor": 2
}
